{
 "cells": [
  {
   "cell_type": "code",
   "execution_count": 7,
   "id": "cc7291c1-140a-4a23-b885-754d10319823",
   "metadata": {},
   "outputs": [
    {
     "name": "stdout",
     "output_type": "stream",
     "text": [
      "Hello Data Science World\n"
     ]
    }
   ],
   "source": [
    "#Python is a case sensitive language # is used for put comments and if without # it shows error and see below for example\n",
    "\n",
    "print(\"Hello Data Science World\")"
   ]
  },
  {
   "cell_type": "code",
   "execution_count": 9,
   "id": "959a6cc0-97f7-4937-b894-6cb3c2ee024a",
   "metadata": {},
   "outputs": [
    {
     "ename": "SyntaxError",
     "evalue": "invalid syntax (2973175024.py, line 1)",
     "output_type": "error",
     "traceback": [
      "\u001b[1;36m  Cell \u001b[1;32mIn[9], line 1\u001b[1;36m\u001b[0m\n\u001b[1;33m    Python is a case sensitive language # is used for put comments and if without # it shows error and see below for example\u001b[0m\n\u001b[1;37m                ^\u001b[0m\n\u001b[1;31mSyntaxError\u001b[0m\u001b[1;31m:\u001b[0m invalid syntax\n"
     ]
    }
   ],
   "source": [
    "Python is a case sensitive language # is used for put comments and if without # it shows error and see below for example"
   ]
  },
  {
   "cell_type": "markdown",
   "id": "ee025c8d-f7aa-4b4c-b85c-b685d9f80445",
   "metadata": {},
   "source": [
    "#Markdown is used to write the comments in multiple lines as like in notepad, on top there is code if you touch have an option of markdown\n",
    "Markdown is basically used to write the comments in multiple lines and i can run it and it is writing as n normal character without error even in the abscence of #\n",
    "\n",
    "Python is a case sensitive language (Without # also it counts as comments as markdown is selected) PRINT also Error\n",
    "\n",
    "\\ Backslash bar is indicated as \\n as raw after which whatever we writing shows in the second line (code) not raw example below cell\n",
    "\n",
    "8*2+10"
   ]
  },
  {
   "cell_type": "code",
   "execution_count": 20,
   "id": "5e655c64-a095-4646-a2a1-a354a67b5238",
   "metadata": {},
   "outputs": [
    {
     "name": "stdout",
     "output_type": "stream",
     "text": [
      "Hello Data Science World! \n",
      " python\n"
     ]
    }
   ],
   "source": [
    "#raw (code)\n",
    "\n",
    "print(\"Hello Data Science World! \\n python\")"
   ]
  },
  {
   "cell_type": "markdown",
   "id": "e5b6f4c5-6ab0-4f58-8f66-9c5ee7aa079b",
   "metadata": {},
   "source": [
    "Shortcuts\n",
    "\n",
    "To add the cell above the current cell Esc+A\n",
    "\n",
    "To add the cell above the current cell Esc+B\n",
    "\n",
    "To delete a cell Esc+D+D\n",
    "\n",
    "To execute a cell ctrl+ Enter or Shift +Enter"
   ]
  },
  {
   "cell_type": "code",
   "execution_count": 2,
   "id": "847fb5e1-c753-47ff-a4e2-52bc19424595",
   "metadata": {},
   "outputs": [
    {
     "name": "stdout",
     "output_type": "stream",
     "text": [
      "Narenthiran Dhuvaragan\n"
     ]
    }
   ],
   "source": [
    "print(\"Narenthiran Dhuvaragan\")"
   ]
  },
  {
   "cell_type": "code",
   "execution_count": 3,
   "id": "82f580cb-db51-4bc0-a360-0d1f5af084b4",
   "metadata": {},
   "outputs": [
    {
     "data": {
      "text/plain": [
       "18"
      ]
     },
     "execution_count": 3,
     "metadata": {},
     "output_type": "execute_result"
    }
   ],
   "source": [
    "8+10"
   ]
  },
  {
   "cell_type": "code",
   "execution_count": 4,
   "id": "495265c2-6599-484b-8c52-6a3140caf44e",
   "metadata": {},
   "outputs": [
    {
     "data": {
      "text/plain": [
       "4.0"
      ]
     },
     "execution_count": 4,
     "metadata": {},
     "output_type": "execute_result"
    }
   ],
   "source": [
    "8/2"
   ]
  },
  {
   "cell_type": "code",
   "execution_count": 5,
   "id": "7734d1cf-334d-462b-bd3a-7adafda0a721",
   "metadata": {},
   "outputs": [
    {
     "name": "stdout",
     "output_type": "stream",
     "text": [
      "Hello Data Science World\n"
     ]
    }
   ],
   "source": [
    "print(\"Hello Data Science World\")"
   ]
  },
  {
   "cell_type": "code",
   "execution_count": 6,
   "id": "3b787edc-ec1c-43c1-b5d4-83e7d85ae1ac",
   "metadata": {},
   "outputs": [
    {
     "ename": "NameError",
     "evalue": "name 'Print' is not defined",
     "output_type": "error",
     "traceback": [
      "\u001b[1;31m---------------------------------------------------------------------------\u001b[0m",
      "\u001b[1;31mNameError\u001b[0m                                 Traceback (most recent call last)",
      "Cell \u001b[1;32mIn[6], line 1\u001b[0m\n\u001b[1;32m----> 1\u001b[0m Print(\u001b[38;5;124m\"\u001b[39m\u001b[38;5;124mHello Data Science World\u001b[39m\u001b[38;5;124m\"\u001b[39m)\n",
      "\u001b[1;31mNameError\u001b[0m: name 'Print' is not defined"
     ]
    }
   ],
   "source": [
    "Print(\"Hello Data Science World\")"
   ]
  },
  {
   "cell_type": "code",
   "execution_count": null,
   "id": "bf73f887-8900-4679-afbc-706e50068322",
   "metadata": {},
   "outputs": [],
   "source": [
    "Python is case sensitive Caps P instead of Small p"
   ]
  },
  {
   "cell_type": "code",
   "execution_count": null,
   "id": "ee34c03e-40e6-4ac1-bf55-9850fc062ee6",
   "metadata": {},
   "outputs": [],
   "source": []
  }
 ],
 "metadata": {
  "kernelspec": {
   "display_name": "Python 3 (ipykernel)",
   "language": "python",
   "name": "python3"
  },
  "language_info": {
   "codemirror_mode": {
    "name": "ipython",
    "version": 3
   },
   "file_extension": ".py",
   "mimetype": "text/x-python",
   "name": "python",
   "nbconvert_exporter": "python",
   "pygments_lexer": "ipython3",
   "version": "3.12.4"
  }
 },
 "nbformat": 4,
 "nbformat_minor": 5
}
